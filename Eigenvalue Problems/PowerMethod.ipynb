{
 "cells": [
  {
   "cell_type": "code",
   "execution_count": 1,
   "id": "72370373-f9a6-4749-a18a-d72bc175c406",
   "metadata": {},
   "outputs": [],
   "source": [
    "import numpy as np"
   ]
  },
  {
   "cell_type": "code",
   "execution_count": 13,
   "id": "1cb635ca-e151-4ef7-bc24-4c60cb226198",
   "metadata": {},
   "outputs": [],
   "source": [
    "def normalize_vector(v):\n",
    "    norm = np.linalg.norm(v)\n",
    "    if norm == 0: \n",
    "       return v\n",
    "    return v / norm\n",
    "\n",
    "def power_method(A, x0, tol=1e-10, max_iter=1000):\n",
    "    xk = normalize_vector(x0)\n",
    "    eigenvalue = 0\n",
    "\n",
    "    for i in range(max_iter):\n",
    "        yk = np.dot(A, xk)\n",
    "        \n",
    "        xk_new = normalize_vector(yk)\n",
    "        eigenvalue_new = np.dot(xk_new.T, np.dot(A, xk_new)) / np.dot(xk_new.T, xk_new)\n",
    "        if np.linalg.norm(xk_new - xk) < tol and abs(eigenvalue_new - eigenvalue) < tol:\n",
    "            break\n",
    "        \n",
    "        xk = xk_new\n",
    "        eigenvalue = eigenvalue_new\n",
    "\n",
    "    return eigenvalue, xk"
   ]
  },
  {
   "cell_type": "code",
   "execution_count": 14,
   "id": "a38e2449-1d13-427f-bc06-8e4903927965",
   "metadata": {},
   "outputs": [
    {
     "name": "stdout",
     "output_type": "stream",
     "text": [
      "Approximated dominant eigenvalue: 6.0\n",
      "Approximated dominant eigenvector: [0.70710678 0.70710678]\n"
     ]
    }
   ],
   "source": [
    "A = np.array([[5, 1], [1, 5]])\n",
    "x0 = np.array([1, 0])\n",
    "\n",
    "eigenvalue, eigenvector = power_method(A, x0)\n",
    "\n",
    "print(f\"Approximated dominant eigenvalue: {eigenvalue}\")\n",
    "print(f\"Approximated dominant eigenvector: {eigenvector}\")"
   ]
  }
 ],
 "metadata": {
  "kernelspec": {
   "display_name": "Python 3 (ipykernel)",
   "language": "python",
   "name": "python3"
  },
  "language_info": {
   "codemirror_mode": {
    "name": "ipython",
    "version": 3
   },
   "file_extension": ".py",
   "mimetype": "text/x-python",
   "name": "python",
   "nbconvert_exporter": "python",
   "pygments_lexer": "ipython3",
   "version": "3.12.3"
  }
 },
 "nbformat": 4,
 "nbformat_minor": 5
}
