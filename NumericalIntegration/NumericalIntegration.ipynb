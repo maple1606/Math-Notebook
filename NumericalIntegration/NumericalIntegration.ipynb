{
 "cells": [
  {
   "cell_type": "code",
   "execution_count": 1,
   "id": "3ba15b86-9d1d-4185-aff0-08987da490dc",
   "metadata": {},
   "outputs": [],
   "source": [
    "import numpy as np"
   ]
  },
  {
   "cell_type": "code",
   "execution_count": 18,
   "id": "2332cb87-c0f8-46dc-b996-9fbc91fa253b",
   "metadata": {},
   "outputs": [
    {
     "name": "stdout",
     "output_type": "stream",
     "text": [
      "a: 0.4885\n",
      "b: 0.0548\n",
      "c: -0.0214\n",
      "d: 0.2734\n"
     ]
    }
   ],
   "source": [
    "def trapezoidal_rule(f, a, b, n):\n",
    "    h = (b-a) / n\n",
    "    x = np.linspace(a, b, n+1)\n",
    "    y = f(x)\n",
    "    integral = (h/2) * (y[0] + 2*np.sum(y[1:-1]) + y[-1])\n",
    "    return integral\n",
    "\n",
    "# Part (a)\n",
    "f_a = lambda x: (np.cos(x))**2\n",
    "a_a, b_a = -0.25, 0.25\n",
    "integral_a = trapezoidal_rule(f_a, a_a, b_a, 4)\n",
    "\n",
    "# Part (b)\n",
    "f_b = lambda x: x * np.log(x+1)\n",
    "a_b, b_b = -0.5, 0\n",
    "integral_b = trapezoidal_rule(f_b, a_b, b_b, 4)\n",
    "\n",
    "# Part (c)\n",
    "f_c = lambda x: (np.sin(x))**2 - 2*x * np.sin(x) + 1\n",
    "a_c, b_c = 0.75, 1.3\n",
    "integral_c = trapezoidal_rule(f_c, a_c, b_c, 4)\n",
    "\n",
    "# Part (d)\n",
    "f_d = lambda x: 1 / (x*np.log(x))\n",
    "a_d, b_d = np.e, np.e + 1\n",
    "integral_d = trapezoidal_rule(f_d, a_d, b_d, 4)\n",
    "\n",
    "print(\"a:\", round(integral_a, 4))\n",
    "print(\"b:\", round(integral_b, 4))\n",
    "print(\"c:\", round(integral_c, 4))\n",
    "print(\"d:\", round(integral_d, 4))"
   ]
  },
  {
   "cell_type": "code",
   "execution_count": 22,
   "id": "2239d66d-df8e-4a0d-bf82-e95a551f5e2f",
   "metadata": {},
   "outputs": [
    {
     "name": "stdout",
     "output_type": "stream",
     "text": [
      "a: 0.4897\n",
      "b: 0.0526\n",
      "c: -0.0204\n",
      "d: 0.2725\n"
     ]
    }
   ],
   "source": [
    "def simpsons_rule(f, a, b, n):\n",
    "    if n % 2 != 0:\n",
    "        raise ValueError(\"n must be even\")\n",
    "    h = (b-a) / n\n",
    "    x = np.linspace(a, b, n+1)\n",
    "    y = f(x)\n",
    "    integral = (h/3) * (y[0] + 4*np.sum(y[1:n:2]) + 2*np.sum(y[2:n-1:2]) + y[n])\n",
    "    return integral\n",
    "\n",
    "# Part (a)\n",
    "f_a = lambda x: (np.cos(x))**2\n",
    "a_a, b_a = -0.25, 0.25\n",
    "integral_a = simpsons_rule(f_a, a_a, b_a, 4)\n",
    "\n",
    "# Part (b)\n",
    "f_b = lambda x: x * np.log(x+1)\n",
    "a_b, b_b = -0.5, 0\n",
    "integral_b = simpsons_rule(f_b, a_b, b_b, 4)\n",
    "\n",
    "# Part (c)\n",
    "f_c = lambda x: (np.sin(x))**2 - 2*x * np.sin(x) + 1\n",
    "a_c, b_c = 0.75, 1.3\n",
    "integral_c = simpsons_rule(f_c, a_c, b_c, 4)\n",
    "\n",
    "# Part (d)\n",
    "f_d = lambda x: 1 / (x*np.log(x))\n",
    "a_d, b_d = np.e, np.e + 1\n",
    "integral_d = simpsons_rule(f_d, a_d, b_d, 4)\n",
    "\n",
    "print(\"a:\", round(integral_a, 4))\n",
    "print(\"b:\", round(integral_b, 4))\n",
    "print(\"c:\", round(integral_c, 4))\n",
    "print(\"d:\", round(integral_d, 4))"
   ]
  },
  {
   "cell_type": "code",
   "execution_count": 21,
   "id": "11425386-be09-4ca9-98a9-722d4f58f3e3",
   "metadata": {},
   "outputs": [
    {
     "name": "stdout",
     "output_type": "stream",
     "text": [
      "a: 0.4903\n",
      "b: 0.0515\n",
      "c: -0.0199\n",
      "d: 0.2721\n"
     ]
    }
   ],
   "source": [
    "def midpoint_rule(f, a, b, n):\n",
    "    h = (b-a) / n\n",
    "    x = np.linspace(a+h/2, b-h/2, n)\n",
    "    y = f(x)\n",
    "    integral = h * np.sum(y)\n",
    "    return integral\n",
    "\n",
    "# Part (a)\n",
    "f_a = lambda x: (np.cos(x))**2\n",
    "a_a, b_a = -0.25, 0.25\n",
    "integral_a = midpoint_rule(f_a, a_a, b_a, 4)\n",
    "\n",
    "# Part (b)\n",
    "f_b = lambda x: x * np.log(x+1)\n",
    "a_b, b_b = -0.5, 0\n",
    "integral_b = midpoint_rule(f_b, a_b, b_b, 4)\n",
    "\n",
    "# Part (c)\n",
    "f_c = lambda x: (np.sin(x))**2 - 2*x * np.sin(x) + 1\n",
    "a_c, b_c = 0.75, 1.3\n",
    "integral_c = midpoint_rule(f_c, a_c, b_c, 4)\n",
    "\n",
    "# Part (d)\n",
    "f_d = lambda x: 1 / (x*np.log(x))\n",
    "a_d, b_d = np.e, np.e + 1\n",
    "integral_d = midpoint_rule(f_d, a_d, b_d, 4)\n",
    "\n",
    "print(\"a:\", round(integral_a, 4))\n",
    "print(\"b:\", round(integral_b, 4))\n",
    "print(\"c:\", round(integral_c, 4))\n",
    "print(\"d:\", round(integral_d, 4))"
   ]
  }
 ],
 "metadata": {
  "kernelspec": {
   "display_name": "Python 3 (ipykernel)",
   "language": "python",
   "name": "python3"
  },
  "language_info": {
   "codemirror_mode": {
    "name": "ipython",
    "version": 3
   },
   "file_extension": ".py",
   "mimetype": "text/x-python",
   "name": "python",
   "nbconvert_exporter": "python",
   "pygments_lexer": "ipython3",
   "version": "3.12.3"
  }
 },
 "nbformat": 4,
 "nbformat_minor": 5
}
