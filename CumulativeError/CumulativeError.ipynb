{
 "cells": [
  {
   "cell_type": "code",
   "execution_count": 18,
   "id": "15056b38-2e41-4aef-99da-6ee77134e378",
   "metadata": {},
   "outputs": [
    {
     "name": "stdout",
     "output_type": "stream",
     "text": [
      "Cumulative output error: 0.0214\n",
      "Maximum estimated input errors: [0.0586, 0.039]\n"
     ]
    }
   ],
   "source": [
    "import numpy as np\n",
    "\n",
    "def f(x, y):\n",
    "    return x**2 * np.sin(y) + y**3 * np.cos(x)\n",
    "\n",
    "def diff(f, x, h):\n",
    "    return (f(x+h) - f(x-h)) / (2*h)\n",
    "\n",
    "def partial_diff(f, x, idx, h):\n",
    "    x_plus = list(x)\n",
    "    x_minus = list(x)\n",
    "    x_plus[idx] += h\n",
    "    x_minus[idx] -= h\n",
    "    return (f(*x_plus) - f(*x_minus)) / (2*h)\n",
    "\n",
    "def direct_solver(f, x, x_abs_err, h):\n",
    "    if type(x) is float:\n",
    "        x = [x]\n",
    "        x_abs_err = [x_abs_err] \n",
    "    res = 0\n",
    "    for i in range(len(x)):\n",
    "        res += abs(partial_diff(f, x, i, h)) * x_abs_err[i]\n",
    "    return res\n",
    "\n",
    "def inverse_solver(f, x, y_abs_err, h):\n",
    "    if isinstance(x, float):\n",
    "        return y_abs_err / abs(diff(f, x, h))\n",
    "    res = []\n",
    "    for i in range(len(x)):\n",
    "        res.append(round(y_abs_err / abs(partial_diff(f, x, i, h)), 4))\n",
    "    return res\n",
    "\n",
    "x_point = [1.0, 0.5]\n",
    "tolerance = 0.01\n",
    "\n",
    "x_error = [0.01, 0.01]\n",
    "print(\"Cumulative output error:\", round(direct_solver(f, x_point, x_error, tolerance), 4))\n",
    "\n",
    "y_abs_err = 0.05\n",
    "print(\"Maximum estimated input errors:\", inverse_solver(f, x_point, y_abs_err, tolerance))"
   ]
  }
 ],
 "metadata": {
  "kernelspec": {
   "display_name": "Python 3 (ipykernel)",
   "language": "python",
   "name": "python3"
  },
  "language_info": {
   "codemirror_mode": {
    "name": "ipython",
    "version": 3
   },
   "file_extension": ".py",
   "mimetype": "text/x-python",
   "name": "python",
   "nbconvert_exporter": "python",
   "pygments_lexer": "ipython3",
   "version": "3.12.3"
  }
 },
 "nbformat": 4,
 "nbformat_minor": 5
}
