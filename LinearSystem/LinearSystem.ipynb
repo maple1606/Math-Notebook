{
 "cells": [
  {
   "cell_type": "code",
   "execution_count": 2,
   "id": "f608e9b7-5796-4fde-bb74-78f7722c7cef",
   "metadata": {},
   "outputs": [
    {
     "name": "stdout",
     "output_type": "stream",
     "text": [
      "System of equations:\n",
      "10.0*1 + -1.0*2 + 2.0*3 + 0.0*4 = 6.0\n",
      "-1.0*1 + 11.0*2 + -1.0*3 + 3.0*4 = 25.0\n",
      "2.0*1 + -1.0*2 + 10.0*3 + -1.0*4 = -11.0\n",
      "0.0*1 + 3.0*2 + -1.0*3 + 8.0*4 = 15.0\n"
     ]
    }
   ],
   "source": [
    "import numpy as np\n",
    "\n",
    "A = np.array(\n",
    "    [\n",
    "        [10.0, -1.0, 2.0, 0.0],\n",
    "        [-1.0, 11.0, -1.0, 3.0],\n",
    "        [2.0, -1.0, 10.0, -1.0],\n",
    "        [0.0, 3.0, -1.0, 8.0],\n",
    "    ]\n",
    ")\n",
    "\n",
    "b = np.array([6.0, 25.0, -11.0, 15.0])\n",
    "\n",
    "print(\"System of equations:\")\n",
    "for i in range(A.shape[0]):\n",
    "    equation = \"\"\n",
    "    for j in range(A.shape[1]):\n",
    "        equation += f\"{A[i][j]}*{j+1}\"\n",
    "        if j < A.shape[1] - 1:\n",
    "            equation += \" + \"\n",
    "    equation += f\" = {b[i]}\"\n",
    "    print(equation)"
   ]
  },
  {
   "cell_type": "code",
   "execution_count": 3,
   "id": "868f789e-a27b-4eb9-ac97-5ee5a851602d",
   "metadata": {},
   "outputs": [
    {
     "name": "stdout",
     "output_type": "stream",
     "text": [
      "Solution using Gauss-Seidel iteration:\n",
      "[ 1.  2. -1.  1.]\n"
     ]
    }
   ],
   "source": [
    "def gauss_seidel(A, b):\n",
    "    TOLERANCE = 1e-8\n",
    "    ITERATION_LIMIT = 1000\n",
    "\n",
    "    x = np.zeros_like(b)\n",
    "    n = len(b)\n",
    "    \n",
    "    while ITERATION_LIMIT > 0:\n",
    "        ITERATION_LIMIT -= 1\n",
    "        x_old = np.copy(x)\n",
    "        for i in range(n):\n",
    "            x[i] = (b[i] - (np.dot(A[i, :i], x[:i]) + np.dot(A[i, i+1:], x_old[i+1:]))) / A[i, i]\n",
    "        if np.linalg.norm(x - x_old, ord=np.inf) < TOLERANCE:\n",
    "            break\n",
    "    return x\n",
    "\n",
    "solution = gauss_seidel(A, b)\n",
    "print(\"Solution using Gauss-Seidel iteration:\")\n",
    "print(solution)"
   ]
  },
  {
   "cell_type": "code",
   "execution_count": 5,
   "id": "7b1cbbd8-b1e8-42fe-a76e-e1b841e0d608",
   "metadata": {},
   "outputs": [
    {
     "name": "stdout",
     "output_type": "stream",
     "text": [
      "Solution using Jacobi iteration:\n",
      "[ 1.  2. -1.  1.]\n"
     ]
    }
   ],
   "source": [
    "def jacobi(A, b):\n",
    "    TOLERANCE = 1e-8\n",
    "    ITERATION_LIMIT = 1000\n",
    "\n",
    "    x = np.zeros_like(b)\n",
    "    n = len(b)\n",
    "    x_new = np.zeros_like(x)\n",
    "    for _ in range(ITERATION_LIMIT):\n",
    "        for i in range(n):\n",
    "            x_new[i] = (b[i] - np.dot(A[i, :i], x[:i]) - np.dot(A[i, i+1:], x[i+1:])) / A[i, i]\n",
    "        if np.linalg.norm(x_new - x, ord=np.inf) < TOLERANCE:\n",
    "            break\n",
    "        x = np.copy(x_new)\n",
    "    return x\n",
    "\n",
    "solution = jacobi(A, b)\n",
    "print(\"Solution using Jacobi iteration:\")\n",
    "print(solution)"
   ]
  },
  {
   "cell_type": "code",
   "execution_count": 10,
   "id": "801a3273-2f62-4aa7-8455-09dda47bbb3a",
   "metadata": {},
   "outputs": [
    {
     "name": "stdout",
     "output_type": "stream",
     "text": [
      "[[ 1.    0.    0.    0.  ]\n",
      " [-0.1   1.    0.    0.  ]\n",
      " [ 0.2  -0.07  1.    0.  ]\n",
      " [ 0.    0.28 -0.08  1.  ]]\n",
      "[[10.   -1.    2.    0.  ]\n",
      " [ 0.   10.9  -0.8   3.  ]\n",
      " [ 0.    0.    9.54 -0.79]\n",
      " [ 0.    0.    0.    7.1 ]]\n"
     ]
    }
   ],
   "source": [
    "def lu_decomposition(A):\n",
    "    n = len(A)\n",
    "    L = np.eye(n)\n",
    "    U = np.zeros((n, n))\n",
    "    \n",
    "    for i in range(n):\n",
    "        # Upper Triangular Matrix\n",
    "        for k in range(i, n):\n",
    "            sum = 0\n",
    "            for j in range(i):\n",
    "                sum += L[i][j] * U[j][k]\n",
    "            U[i][k] = A[i][k] - sum\n",
    "            U[i][k] = round(U[i][k], 2)\n",
    "        \n",
    "        # Lower Triangular Matrix\n",
    "        for k in range(i, n):\n",
    "            if i == k:\n",
    "                L[i][i] = 1\n",
    "            else:\n",
    "                sum = 0\n",
    "                for j in range(i):\n",
    "                    sum += L[k][j] * U[j][i]\n",
    "                L[k][i] = (A[k][i] - sum) / U[i][i]\n",
    "                L[k][i] = round(L[k][i], 2)\n",
    "    \n",
    "    return L, U\n",
    "\n",
    "L, U = lu_decomposition(A)\n",
    "print(L)\n",
    "print(U)"
   ]
  },
  {
   "cell_type": "code",
   "execution_count": null,
   "id": "60006f84-1349-41b1-bbd6-bb205d046ed0",
   "metadata": {},
   "outputs": [],
   "source": []
  }
 ],
 "metadata": {
  "kernelspec": {
   "display_name": "Python 3 (ipykernel)",
   "language": "python",
   "name": "python3"
  },
  "language_info": {
   "codemirror_mode": {
    "name": "ipython",
    "version": 3
   },
   "file_extension": ".py",
   "mimetype": "text/x-python",
   "name": "python",
   "nbconvert_exporter": "python",
   "pygments_lexer": "ipython3",
   "version": "3.12.3"
  }
 },
 "nbformat": 4,
 "nbformat_minor": 5
}
