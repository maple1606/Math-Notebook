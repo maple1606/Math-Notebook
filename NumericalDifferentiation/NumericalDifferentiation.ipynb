{
 "cells": [
  {
   "cell_type": "code",
   "execution_count": 11,
   "id": "e8256e03-307c-427b-8429-85e851ef659a",
   "metadata": {},
   "outputs": [],
   "source": [
    "def function(x):\n",
    "    return x**3 + 10*x + 12"
   ]
  },
  {
   "cell_type": "code",
   "execution_count": 12,
   "id": "1af68c94-c87b-4de7-9afa-e67ba7ce9004",
   "metadata": {},
   "outputs": [
    {
     "name": "stdout",
     "output_type": "stream",
     "text": [
      "Three-Point Forward Difference at x0 = 0: 9.9998\n",
      "Three-Point Backward Difference at xn = 2: 21.9998\n"
     ]
    }
   ],
   "source": [
    "def three_point_forward_difference(f, x0, h):\n",
    "    return (-3*f(x0) + 4*f(x0+h) - f(x0 + 2*h)) / (2*h)\n",
    "\n",
    "def three_point_backward_difference(f, xn, h):\n",
    "    return (3*f(xn) - 4*f(xn-h) + f(xn - 2*h)) / (2*h)\n",
    "\n",
    "x0 = 0\n",
    "xn = 2\n",
    "h = 0.01\n",
    "\n",
    "forward_diff = round(three_point_forward_difference(function, x0, h), 4)\n",
    "backward_diff = round(three_point_backward_difference(function, xn, h), 4)\n",
    "\n",
    "print(f\"Three-Point Forward Difference at x0 = {x0}: {forward_diff}\")\n",
    "print(f\"Three-Point Backward Difference at xn = {xn}: {backward_diff}\")"
   ]
  },
  {
   "cell_type": "code",
   "execution_count": 14,
   "id": "623b535b-4925-4eb9-b6ac-2902c7d97cea",
   "metadata": {},
   "outputs": [],
   "source": [
    "def three_point_midpoint(f, x, h):\n",
    "    return (f(x+h) - f(x-h)) / (2*h)"
   ]
  },
  {
   "cell_type": "code",
   "execution_count": 15,
   "id": "73aa5337-6c28-40d3-a1ff-a6870b64c2ad",
   "metadata": {},
   "outputs": [
    {
     "name": "stdout",
     "output_type": "stream",
     "text": [
      "f'(1.05) ≈ 7.5346\n",
      "f'(1.1) ≈ 5.9063\n",
      "f'(1.15) ≈ 4.5781\n",
      "f'(1.2) ≈ 3.7219\n",
      "f'(1.25) ≈ 3.1442\n",
      "f'(1.3) ≈ 2.6729\n"
     ]
    }
   ],
   "source": [
    "data = {\n",
    "    1.05: -1.709847, \n",
    "    1.10: -1.373823, \n",
    "    1.15: -1.119214, \n",
    "    1.20: -0.9160143, \n",
    "    1.25: -0.7470223, \n",
    "    1.30: -0.6015966\n",
    "}\n",
    "\n",
    "def f(x):\n",
    "    return data[round(x, 2)]\n",
    "\n",
    "h = 0.05\n",
    "x0 = 1.05\n",
    "xn = 1.30\n",
    "\n",
    "f_prime = []\n",
    "f_prime.append(round(three_point_forward_difference(f, x0, h), 4))\n",
    "\n",
    "for i in range(1, len(x_values) - 1):\n",
    "    f_prime.append(round(three_point_midpoint(f, x0 + h*i, h), 4))\n",
    "\n",
    "f_prime.append(round(three_point_backward_difference(sample_function, xn, h), 4))\n",
    "\n",
    "for i, x in enumerate(x_values):\n",
    "    print(f\"f'({x}) ≈ {f_prime[i]}\")\n"
   ]
  },
  {
   "cell_type": "code",
   "execution_count": 16,
   "id": "2d9b7894-15bf-4dd9-879a-07719494ca5d",
   "metadata": {},
   "outputs": [
    {
     "ename": "KeyError",
     "evalue": "1.1500000000000001",
     "output_type": "error",
     "traceback": [
      "\u001b[1;31m---------------------------------------------------------------------------\u001b[0m",
      "\u001b[1;31mKeyError\u001b[0m                                  Traceback (most recent call last)",
      "Cell \u001b[1;32mIn[16], line 25\u001b[0m\n\u001b[0;32m     21\u001b[0m x_values \u001b[38;5;241m=\u001b[39m [\u001b[38;5;241m1.05\u001b[39m, \u001b[38;5;241m1.10\u001b[39m, \u001b[38;5;241m1.15\u001b[39m, \u001b[38;5;241m1.20\u001b[39m, \u001b[38;5;241m1.25\u001b[39m, \u001b[38;5;241m1.30\u001b[39m]\n\u001b[0;32m     23\u001b[0m f_prime \u001b[38;5;241m=\u001b[39m []\n\u001b[1;32m---> 25\u001b[0m f_prime\u001b[38;5;241m.\u001b[39mappend(\u001b[38;5;28mround\u001b[39m(\u001b[43mfive_point_forward_difference\u001b[49m\u001b[43m(\u001b[49m\u001b[43msample_function\u001b[49m\u001b[43m,\u001b[49m\u001b[43m \u001b[49m\u001b[43mx0\u001b[49m\u001b[43m,\u001b[49m\u001b[43m \u001b[49m\u001b[43mh\u001b[49m\u001b[43m)\u001b[49m, \u001b[38;5;241m4\u001b[39m))\n\u001b[0;32m     26\u001b[0m f_prime\u001b[38;5;241m.\u001b[39mappend(\u001b[38;5;28mround\u001b[39m(five_point_forward_difference(sample_function, x0\u001b[38;5;241m+\u001b[39mh, h), \u001b[38;5;241m4\u001b[39m))\n\u001b[0;32m     28\u001b[0m \u001b[38;5;28;01mfor\u001b[39;00m i \u001b[38;5;129;01min\u001b[39;00m \u001b[38;5;28mrange\u001b[39m(\u001b[38;5;241m2\u001b[39m, \u001b[38;5;28mlen\u001b[39m(x_values) \u001b[38;5;241m-\u001b[39m \u001b[38;5;241m2\u001b[39m):\n",
      "Cell \u001b[1;32mIn[16], line 10\u001b[0m, in \u001b[0;36mfive_point_forward_difference\u001b[1;34m(f, x0, h)\u001b[0m\n\u001b[0;32m      9\u001b[0m \u001b[38;5;28;01mdef\u001b[39;00m \u001b[38;5;21mfive_point_forward_difference\u001b[39m(f, x0, h):\n\u001b[1;32m---> 10\u001b[0m     \u001b[38;5;28;01mreturn\u001b[39;00m (\u001b[38;5;241m-\u001b[39m\u001b[38;5;241m25\u001b[39m\u001b[38;5;241m*\u001b[39mf(x0) \u001b[38;5;241m+\u001b[39m \u001b[38;5;241m48\u001b[39m\u001b[38;5;241m*\u001b[39mf(x0\u001b[38;5;241m+\u001b[39mh) \u001b[38;5;241m-\u001b[39m \u001b[38;5;241m36\u001b[39m\u001b[38;5;241m*\u001b[39m\u001b[43mf\u001b[49m\u001b[43m(\u001b[49m\u001b[43mx0\u001b[49m\u001b[38;5;241;43m+\u001b[39;49m\u001b[38;5;241;43m2\u001b[39;49m\u001b[38;5;241;43m*\u001b[39;49m\u001b[43mh\u001b[49m\u001b[43m)\u001b[49m \u001b[38;5;241m+\u001b[39m \u001b[38;5;241m16\u001b[39m\u001b[38;5;241m*\u001b[39mf(x0\u001b[38;5;241m+\u001b[39m\u001b[38;5;241m3\u001b[39m\u001b[38;5;241m*\u001b[39mh) \u001b[38;5;241m-\u001b[39m \u001b[38;5;241m3\u001b[39m\u001b[38;5;241m*\u001b[39mf(x0\u001b[38;5;241m+\u001b[39m\u001b[38;5;241m4\u001b[39m\u001b[38;5;241m*\u001b[39mh)) \u001b[38;5;241m/\u001b[39m (\u001b[38;5;241m12\u001b[39m\u001b[38;5;241m*\u001b[39mh)\n",
      "Cell \u001b[1;32mIn[1], line 3\u001b[0m, in \u001b[0;36msample_function\u001b[1;34m(x)\u001b[0m\n\u001b[0;32m      1\u001b[0m \u001b[38;5;28;01mdef\u001b[39;00m \u001b[38;5;21msample_function\u001b[39m(x):\n\u001b[0;32m      2\u001b[0m     data \u001b[38;5;241m=\u001b[39m {\u001b[38;5;241m1.05\u001b[39m: \u001b[38;5;241m-\u001b[39m\u001b[38;5;241m1.709847\u001b[39m, \u001b[38;5;241m1.10\u001b[39m: \u001b[38;5;241m-\u001b[39m\u001b[38;5;241m1.373823\u001b[39m, \u001b[38;5;241m1.15\u001b[39m: \u001b[38;5;241m-\u001b[39m\u001b[38;5;241m1.119214\u001b[39m, \u001b[38;5;241m1.20\u001b[39m: \u001b[38;5;241m-\u001b[39m\u001b[38;5;241m0.9160143\u001b[39m, \u001b[38;5;241m1.25\u001b[39m: \u001b[38;5;241m-\u001b[39m\u001b[38;5;241m0.7470223\u001b[39m, \u001b[38;5;241m1.30\u001b[39m: \u001b[38;5;241m-\u001b[39m\u001b[38;5;241m0.6015966\u001b[39m}\n\u001b[1;32m----> 3\u001b[0m     \u001b[38;5;28;01mreturn\u001b[39;00m \u001b[43mdata\u001b[49m\u001b[43m[\u001b[49m\u001b[43mx\u001b[49m\u001b[43m]\u001b[49m\n",
      "\u001b[1;31mKeyError\u001b[0m: 1.1500000000000001"
     ]
    }
   ],
   "source": [
    "data = {\n",
    "    1.05: -1.709847, \n",
    "    1.10: -1.373823, \n",
    "    1.15: -1.119214, \n",
    "    1.20: -0.9160143,\n",
    "    1.25: -0.7470223, \n",
    "    1.30: -0.6015966}\n",
    "\n",
    "def f(x):\n",
    "    return data[round(x, 2)]\n",
    "\n",
    "def five_point_forward_difference(f, x0, h):\n",
    "    return (-25*f(x0) + 48*f(x0+h) - 36*f(x0+2*h) + 16*f(x0+3*h) - 3*f(x0+4*h)) / (12*h)\n",
    "\n",
    "def five_point_backward_difference(f, x, h):\n",
    "    return (25*f(xn) - 48*f(xn-h) + 36*f(xn-2*h) - 16*f(xn-3*h) + 3*f(xn-4*h)) / (12*h)\n",
    "\n",
    "def five_point_central_difference(f, x, h):\n",
    "    return (f(x-2*h) - 8*f(x-h) + 8*f(x+h) - f(x+2*h)) / (12*h)\n",
    "\n",
    "h = 0.05\n",
    "x0 = 1.05\n",
    "xn = 1.30\n",
    "x_values = [1.05, 1.10, 1.15, 1.20, 1.25, 1.30]\n",
    "\n",
    "f_prime = []\n",
    "\n",
    "f_prime.append(round(five_point_forward_difference(sample_function, x0, h), 4))\n",
    "f_prime.append(round(five_point_forward_difference(sample_function, x0+h, h), 4))\n",
    "\n",
    "for i in range(2, len(x_values) - 2):\n",
    "    f_prime.append(round(five_point_central_difference(sample_function, x0+h*i, h), 4))\n",
    "\n",
    "f_prime.append(round(five_point_backward_difference(sample_function, xn-h, h), 4))\n",
    "f_prime.append(round(five_point_backward_difference(sample_function, xn, h), 4))\n",
    "\n",
    "for i, x in enumerate(x_values):\n",
    "    print(f\"f'({x}) ≈ {f_prime[i]}\")"
   ]
  },
  {
   "cell_type": "code",
   "execution_count": 8,
   "id": "62ecfbad-be92-4552-a381-9116d3681e34",
   "metadata": {},
   "outputs": [
    {
     "name": "stdout",
     "output_type": "stream",
     "text": [
      "f''(1.3) with h = 0.1: 36.641\n",
      "f''(1.3) with h = 0.01: 36.5\n"
     ]
    }
   ],
   "source": [
    "data = {\n",
    "    1.20: 11.59006,\n",
    "    1.29: 13.78176,\n",
    "    1.30: 14.04276,\n",
    "    1.31: 14.30741,\n",
    "    1.40: 16.86187\n",
    "}\n",
    "\n",
    "def f(x):\n",
    "    return data[round(x, 2)]\n",
    "\n",
    "def central_difference_second_derivative(f, x, h):\n",
    "    return (f(x + h) - 2 * f(x) + f(x - h)) / h**2\n",
    "\n",
    "h1 = 0.1\n",
    "x = 1.3\n",
    "f_double_prime_h1 = central_difference_second_derivative(f, x, h1)\n",
    "print(f\"f''(1.3) with h = 0.1: {round(f_double_prime_h1, 4)}\")\n",
    "\n",
    "h2 = 0.01\n",
    "f_double_prime_h2 = central_difference_second_derivative(f, x, h2)\n",
    "print(f\"f''(1.3) with h = 0.01: {round(f_double_prime_h2, 4)}\")\n"
   ]
  },
  {
   "cell_type": "code",
   "execution_count": null,
   "id": "fde673c6-1d60-49d9-880c-5198e76b95c1",
   "metadata": {},
   "outputs": [],
   "source": []
  }
 ],
 "metadata": {
  "kernelspec": {
   "display_name": "Python 3 (ipykernel)",
   "language": "python",
   "name": "python3"
  },
  "language_info": {
   "codemirror_mode": {
    "name": "ipython",
    "version": 3
   },
   "file_extension": ".py",
   "mimetype": "text/x-python",
   "name": "python",
   "nbconvert_exporter": "python",
   "pygments_lexer": "ipython3",
   "version": "3.12.3"
  }
 },
 "nbformat": 4,
 "nbformat_minor": 5
}
