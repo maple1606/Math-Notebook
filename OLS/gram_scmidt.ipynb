{
 "cells": [
  {
   "cell_type": "code",
   "execution_count": 1,
   "id": "6b5870bc-7a1c-4a53-bcf1-b37e29b92ef6",
   "metadata": {},
   "outputs": [
    {
     "name": "stdout",
     "output_type": "stream",
     "text": [
      "Interval (0, 1):\n",
      "  phi_0(x) = 1\n",
      "  phi_1(x) = x - 1/2\n",
      "  phi_2(x) = x**2 - x + 1/6\n",
      "  phi_3(x) = x**3 - 3*x**2/2 + 3*x/5 - 1/20\n",
      "Interval (0, 2):\n",
      "  phi_0(x) = 1\n",
      "  phi_1(x) = x - 1\n",
      "  phi_2(x) = x**2 - 2*x + 2/3\n",
      "  phi_3(x) = x**3 - 3*x**2 + 12*x/5 - 2/5\n",
      "Interval (1, 3):\n",
      "  phi_0(x) = 1\n",
      "  phi_1(x) = x - 2\n",
      "  phi_2(x) = x**2 - 4*x + 11/3\n",
      "  phi_3(x) = x**3 - 6*x**2 + 57*x/5 - 34/5\n"
     ]
    }
   ],
   "source": [
    "import sympy as sp\n",
    "\n",
    "def gram_schmidt(polynomials, interval):\n",
    "    a, b = interval\n",
    "    x = sp.symbols('x')\n",
    "    \n",
    "    def inner_product(p, q):\n",
    "        return sp.integrate(p * q, (x, a, b))\n",
    "    \n",
    "    orthogonal_polynomials = []\n",
    "    for p in polynomials:\n",
    "        new_poly = p\n",
    "        for q in orthogonal_polynomials:\n",
    "            projection = inner_product(p, q) / inner_product(q, q) * q\n",
    "            new_poly -= projection\n",
    "        new_poly = sp.simplify(new_poly)\n",
    "        orthogonal_polynomials.append(new_poly)\n",
    "    \n",
    "    return orthogonal_polynomials\n",
    "\n",
    "intervals = [(0, 1), (0, 2), (1, 3)]\n",
    "\n",
    "basis_polynomials = [1, sp.symbols('x'), sp.symbols('x')**2, sp.symbols('x')**3]\n",
    "\n",
    "orthogonal_polynomials_per_interval = {}\n",
    "\n",
    "for interval in intervals:\n",
    "    orthogonal_polynomials = gram_schmidt(basis_polynomials, interval)\n",
    "    orthogonal_polynomials_per_interval[interval] = orthogonal_polynomials\n",
    "\n",
    "for interval, orthogonal_polynomials in orthogonal_polynomials_per_interval.items():\n",
    "    print(f\"Interval {interval}:\")\n",
    "    for i, poly in enumerate(orthogonal_polynomials):\n",
    "        print(f\"  phi_{i}(x) = {poly}\")\n"
   ]
  }
 ],
 "metadata": {
  "kernelspec": {
   "display_name": "Python 3 (ipykernel)",
   "language": "python",
   "name": "python3"
  },
  "language_info": {
   "codemirror_mode": {
    "name": "ipython",
    "version": 3
   },
   "file_extension": ".py",
   "mimetype": "text/x-python",
   "name": "python",
   "nbconvert_exporter": "python",
   "pygments_lexer": "ipython3",
   "version": "3.12.3"
  }
 },
 "nbformat": 4,
 "nbformat_minor": 5
}
