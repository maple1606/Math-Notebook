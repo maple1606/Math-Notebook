{
 "cells": [
  {
   "cell_type": "code",
   "execution_count": 54,
   "id": "919e400e-5a0a-441d-b263-64d8bd2abc69",
   "metadata": {},
   "outputs": [],
   "source": [
    "import numpy as np"
   ]
  },
  {
   "cell_type": "code",
   "execution_count": 55,
   "id": "2401d369-8268-4016-8cd5-51c82220bcb6",
   "metadata": {},
   "outputs": [
    {
     "name": "stdout",
     "output_type": "stream",
     "text": [
      "Slope (a1): 2.4143\n",
      "Intercept (a0): -0.8286\n",
      "\n",
      "  Initial y    Predicted y\n",
      "-----------  -------------\n",
      "        1.5           1.59\n",
      "        3.8           4\n",
      "        6.7           6.41\n",
      "        9             8.83\n",
      "       11.2          11.24\n",
      "       13.6          13.66\n",
      "       16            16.07\n",
      "\n",
      "=> Error: 0.17\n"
     ]
    }
   ],
   "source": [
    "from tabulate import tabulate\n",
    "\n",
    "x = np.array([1, 2, 3, 4, 5, 6, 7])\n",
    "y = np.array([1.5, 3.8, 6.7, 9.0, 11.2, 13.6, 16])\n",
    "\n",
    "def discrete_least_squares_regression(x, y):\n",
    "    x = np.array(x)\n",
    "    y = np.array(y)\n",
    "\n",
    "    n = len(x)\n",
    "\n",
    "    x_sum = np.sum(x)\n",
    "    y_sum = np.sum(y)\n",
    "    xy_sum = np.sum(x * y)\n",
    "    x2_sum = np.sum(x**2)\n",
    "\n",
    "    a0 = (x2_sum * y_sum - xy_sum * x_sum) / (n * x2_sum - x_sum ** 2)\n",
    "    a1 = (n * xy_sum - x_sum * y_sum) / (n * x2_sum - x_sum ** 2)\n",
    "    \n",
    "    return a1, a0\n",
    "\n",
    "a1, a0 = discrete_least_squares_regression(x, y)\n",
    "\n",
    "print(f\"Slope (a1): {round(a1, 4)}\")\n",
    "print(f\"Intercept (a0): {round(a0, 4)}\\n\")\n",
    "\n",
    "cmp = []\n",
    "err = 0\n",
    "\n",
    "for curr_x, curr_y in zip(x, y):\n",
    "    predicted_y = a1 * curr_x + a0\n",
    "    err = err + (curr_y - predicted_y) ** 2\n",
    "    cmp.append([curr_y, round(predicted_y, 2)])\n",
    "\n",
    "print(tabulate(cmp, headers=[\"Initial y\", \"Predicted y\"]))\n",
    "print(\"\\n=> Error:\", round(err, 2))"
   ]
  },
  {
   "cell_type": "code",
   "execution_count": 56,
   "id": "b4cf03d7-de91-4b88-9892-8a5a944f5405",
   "metadata": {},
   "outputs": [
    {
     "name": "stdout",
     "output_type": "stream",
     "text": [
      "Coefficients: [-0.0504655   4.12251162 -4.12251162]\n",
      "Predicted y for x = 0.5: 0.9801624074405939\n"
     ]
    }
   ],
   "source": [
    "from scipy.integrate import quad\n",
    "\n",
    "def f(x):\n",
    "    return np.sin(np.pi * x)\n",
    "\n",
    "def polynomial_least_squares_regression(f, degree, a, b):\n",
    "    A = np.zeros((degree + 1, degree + 1))\n",
    "    for i in range(degree + 1):\n",
    "        for j in range(degree + 1):\n",
    "            integrand = lambda x: x**(i + j)\n",
    "            A[i, j], _ = quad(integrand, a, b)\n",
    "    \n",
    "    b_vec = np.zeros(degree + 1)\n",
    "    for i in range(degree + 1):\n",
    "        integrand = lambda x: x**i * f(x)\n",
    "        b_vec[i], _ = quad(integrand, a, b)\n",
    "    \n",
    "    coefficients = np.linalg.solve(A, b_vec)\n",
    "    \n",
    "    return coefficients\n",
    "\n",
    "degree = 2\n",
    "\n",
    "coefficients = polynomial_least_squares_regression(f, degree, 0, 1)\n",
    "\n",
    "print(f\"Coefficients: {coefficients}\")\n",
    "\n",
    "def predict(x, coefficients):\n",
    "    return sum(c * x**i for i, c in enumerate(coefficients))\n",
    "\n",
    "new_x = 0.5\n",
    "predicted_y = predict(new_x, coefficients)\n",
    "print(f\"Predicted y for x = {new_x}: {predicted_y}\")"
   ]
  }
 ],
 "metadata": {
  "kernelspec": {
   "display_name": "Python 3 (ipykernel)",
   "language": "python",
   "name": "python3"
  },
  "language_info": {
   "codemirror_mode": {
    "name": "ipython",
    "version": 3
   },
   "file_extension": ".py",
   "mimetype": "text/x-python",
   "name": "python",
   "nbconvert_exporter": "python",
   "pygments_lexer": "ipython3",
   "version": "3.12.3"
  }
 },
 "nbformat": 4,
 "nbformat_minor": 5
}
