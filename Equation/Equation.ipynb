{
 "cells": [
  {
   "cell_type": "code",
   "execution_count": 7,
   "id": "58fab63b-5b76-4e25-9708-eec11cbc58d0",
   "metadata": {},
   "outputs": [],
   "source": [
    "def bisection_method(f, a, b, tol=1e-5, max_iter=100):\n",
    "    if f(a) * f(b) >= 0:\n",
    "        print(\"The function must have different signs at a and b.\")\n",
    "        return None\n",
    "    \n",
    "    iter_count = 0\n",
    "    while (b-a) / 2.0 > tol and iter_count < max_iter:\n",
    "        midpoint = (a+b) / 2.0\n",
    "        if f(midpoint) == 0:\n",
    "            return midpoint \n",
    "        elif f(a) * f(midpoint) < 0:\n",
    "            b = midpoint\n",
    "        else:\n",
    "            a = midpoint\n",
    "        iter_count += 1\n",
    "        \n",
    "    return (a+b) / 2.0"
   ]
  },
  {
   "cell_type": "code",
   "execution_count": 9,
   "id": "e1c68b75-7b98-4d1b-832b-4735581c76e2",
   "metadata": {},
   "outputs": [
    {
     "name": "stdout",
     "output_type": "stream",
     "text": [
      "The Bisection method converges to the zero at x = 0.0 for the interval (-1.5, 2.5)\n",
      "The Bisection method converges to the zero at x = 0.0 for the interval (-0.5, 2.4)\n",
      "The Bisection method converges to the zero at x = 2.0 for the interval (-0.5, 3)\n",
      "The Bisection method converges to the zero at x = -2.0 for the interval (-3, -0.5)\n"
     ]
    }
   ],
   "source": [
    "# Exercise 10 - Numerical Methods UET Course\n",
    "\n",
    "def f(x):\n",
    "    return (x+2) * (x+1)**2 * x * (x-1)**3 * (x-2)\n",
    "\n",
    "intervals = [(-1.5, 2.5), (-0.5, 2.4), (-0.5, 3), (-3, -0.5)]\n",
    "\n",
    "for interval in intervals:\n",
    "    a, b = interval\n",
    "    root = bisection_method(f, a, b)\n",
    "    print(f\"The Bisection method converges to the zero at x = {round(root, 4)} for the interval {interval}\")"
   ]
  },
  {
   "cell_type": "code",
   "execution_count": 11,
   "id": "95480b50-51be-4b58-9ecd-cbb5e6c5cb93",
   "metadata": {},
   "outputs": [],
   "source": [
    "def fixed_point_iteration(x0, tol, max_iterations=1000):\n",
    "    x_current = x0\n",
    "    for iteration in range(max_iterations):\n",
    "        x_next = g(x_current)\n",
    "        if abs(x_next - x_current) < tol:\n",
    "            return x_next, iteration + 1\n",
    "        x_current = x_next\n",
    "    return x_current, max_iterations"
   ]
  },
  {
   "cell_type": "code",
   "execution_count": 15,
   "id": "fa53f29d-eb10-4a14-b659-f6ba498b4413",
   "metadata": {},
   "outputs": [
    {
     "name": "stdout",
     "output_type": "stream",
     "text": [
      "Approximation: 2.924\n",
      "Iterations: 3\n"
     ]
    }
   ],
   "source": [
    "# Exercise 10 - Numerical Methods UET Course\n",
    "\n",
    "def g(x):\n",
    "    return (2*x + 25 / (x**2)) / 3\n",
    "\n",
    "x0 = 3\n",
    "tol = 1e-4\n",
    "approximation, iterations = fixed_point_iteration(x0, tol)\n",
    "\n",
    "print(\"Approximation:\", round(approximation, 4))\n",
    "print(\"Iterations:\", iterations)"
   ]
  },
  {
   "cell_type": "code",
   "execution_count": 59,
   "id": "57ca2426-f9bc-495c-be69-5c60099e369a",
   "metadata": {},
   "outputs": [],
   "source": [
    "def secant_method(f, x0, x1, tol=1e-5, max_iter=100):\n",
    "    for i in range(max_iter):\n",
    "        f_x0 = f(x0)\n",
    "        f_x1 = f(x1)\n",
    "        if abs(f_x1) < tol:\n",
    "            return x1\n",
    "        x2 = x1 - f_x1 * (x1-x0) / (f_x1 - f_x0)\n",
    "        x0, x1 = x1, x2\n",
    "    raise RuntimeError(\"Secant method did not converge\")"
   ]
  },
  {
   "cell_type": "code",
   "execution_count": 18,
   "id": "a6323ab4-d8cd-4a8f-8f6c-c1888c23fd52",
   "metadata": {},
   "outputs": [],
   "source": [
    "def newton_method(f, df, x0, tol=1e-5, max_iter=100):\n",
    "    x = x0\n",
    "    for _ in range(max_iter):\n",
    "        f_x = f(x)\n",
    "        if abs(f_x) < tol:\n",
    "            return x\n",
    "        x = x - f_x / df(x)\n",
    "    raise RuntimeError(\"Newton's method did not converge\")"
   ]
  },
  {
   "cell_type": "code",
   "execution_count": 51,
   "id": "87dcb786-1733-4738-9708-92e2e425324c",
   "metadata": {},
   "outputs": [],
   "source": [
    "def false_position_method(f, x0, x1, tol=1e-5, max_iter=100):\n",
    "    f_x0 = f(x0)\n",
    "    f_x1 = f(x1)\n",
    "    if f_x0 * f_x1 > 0:\n",
    "        raise ValueError(\"The function must have different signs at the endpoints a and b\")\n",
    "\n",
    "    for _ in range(max_iter):\n",
    "        x2 = x1 - f_x1 * (x1-x0) / (f_x1-f_x0)\n",
    "        f_x2 = f(x2)\n",
    "        if abs(f_x2) < tol:\n",
    "            return x2\n",
    "        if f_x0 * f_x2 < 0:\n",
    "            x1, f_x1 = x2, f_x2\n",
    "        else:\n",
    "            x0, f_x0 = x2, f_x2\n",
    "    raise RuntimeError(\"False position method did not converge\")"
   ]
  },
  {
   "cell_type": "code",
   "execution_count": 58,
   "id": "ba8fbc5f-7efb-4527-8899-3d6a7a222daa",
   "metadata": {},
   "outputs": [
    {
     "name": "stdout",
     "output_type": "stream",
     "text": [
      "The root using Secant method is: -0.811\n",
      "The root using Newton method is: -0.811\n",
      "The root using False Position method is: -0.811\n"
     ]
    }
   ],
   "source": [
    "\n",
    "\n",
    "x0_secant = 0.0\n",
    "x1_secant = 0.1\n",
    "root_secant = secant_method(fa, x0_secant, x1_secant)\n",
    "\n",
    "x0_newton = 0.0\n",
    "root_newton = newton_method(f, df, x0_newton)\n",
    "\n",
    "a_fp = -1.0\n",
    "b_fp = 1.0\n",
    "root_fp = false_position_method(fa, a_fp, b_fp)\n",
    "\n",
    "print(\"The root using Secant method is:\", round(root_secant, 4))\n",
    "print(\"The root using Newton method is:\", round(root_newton, 4))\n",
    "print(\"The root using False Position method is:\", round(root_fp, 4))"
   ]
  }
 ],
 "metadata": {
  "kernelspec": {
   "display_name": "Python 3 (ipykernel)",
   "language": "python",
   "name": "python3"
  },
  "language_info": {
   "codemirror_mode": {
    "name": "ipython",
    "version": 3
   },
   "file_extension": ".py",
   "mimetype": "text/x-python",
   "name": "python",
   "nbconvert_exporter": "python",
   "pygments_lexer": "ipython3",
   "version": "3.12.3"
  }
 },
 "nbformat": 4,
 "nbformat_minor": 5
}
